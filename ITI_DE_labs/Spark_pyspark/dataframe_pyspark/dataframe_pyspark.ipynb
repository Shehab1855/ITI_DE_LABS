{
 "cells": [
  {
   "cell_type": "code",
   "execution_count": 117,
   "id": "fcda6811",
   "metadata": {},
   "outputs": [],
   "source": [
    "from pyspark.sql import SparkSession\n"
   ]
  },
  {
   "cell_type": "code",
   "execution_count": 118,
   "id": "f37bbb33",
   "metadata": {},
   "outputs": [],
   "source": [
    "spark = SparkSession.builder.getOrCreate()"
   ]
  },
  {
   "cell_type": "code",
   "execution_count": 119,
   "id": "5251c746",
   "metadata": {},
   "outputs": [],
   "source": [
    "df=spark.read.csv(\"sf-fire-calls.csv\",header=True , inferSchema=True )\n"
   ]
  },
  {
   "cell_type": "code",
   "execution_count": 120,
   "id": "1033af29",
   "metadata": {},
   "outputs": [
    {
     "name": "stdout",
     "output_type": "stream",
     "text": [
      "+----------+------+--------------+----------------+----------+----------+--------------------+--------------------+--------------------+----+-------+---------+-----------+----+----------------+--------+-------------+-------+-------------+---------+--------+--------------------------+----------------------+------------------+--------------------+--------------------+-------------+---------+\n",
      "|CallNumber|UnitID|IncidentNumber|        CallType|  CallDate| WatchDate|CallFinalDisposition|       AvailableDtTm|             Address|City|Zipcode|Battalion|StationArea| Box|OriginalPriority|Priority|FinalPriority|ALSUnit|CallTypeGroup|NumAlarms|UnitType|UnitSequenceInCallDispatch|FirePreventionDistrict|SupervisorDistrict|        Neighborhood|            Location|        RowID|    Delay|\n",
      "+----------+------+--------------+----------------+----------+----------+--------------------+--------------------+--------------------+----+-------+---------+-----------+----+----------------+--------+-------------+-------+-------------+---------+--------+--------------------------+----------------------+------------------+--------------------+--------------------+-------------+---------+\n",
      "|  20110016|   T13|       2003235|  Structure Fire|01/11/2002|01/10/2002|               Other|01/11/2002 01:51:...|2000 Block of CAL...|  SF|  94109|      B04|         38|3362|               3|       3|            3|  false|         NULL|        1|   TRUCK|                         2|                     4|                 5|     Pacific Heights|(37.7895840679362...|020110016-T13|     2.95|\n",
      "|  20110022|   M17|       2003241|Medical Incident|01/11/2002|01/10/2002|               Other|01/11/2002 03:01:...|0 Block of SILVER...|  SF|  94124|      B10|         42|6495|               3|       3|            3|   true|         NULL|        1|   MEDIC|                         1|                    10|                10|Bayview Hunters P...|(37.7337623673897...|020110022-M17|      4.7|\n",
      "|  20110023|   M41|       2003242|Medical Incident|01/11/2002|01/10/2002|               Other|01/11/2002 02:39:...|MARKET ST/MCALLIS...|  SF|  94102|      B03|         01|1455|               3|       3|            3|   true|         NULL|        1|   MEDIC|                         2|                     3|                 6|          Tenderloin|(37.7811772186856...|020110023-M41|2.4333334|\n",
      "|  20110032|   E11|       2003250|    Vehicle Fire|01/11/2002|01/10/2002|               Other|01/11/2002 04:16:...|APPLETON AV/MISSI...|  SF|  94110|      B06|         32|5626|               3|       3|            3|  false|         NULL|        1|  ENGINE|                         1|                     6|                 9|      Bernal Heights|(37.7388432849018...|020110032-E11|      1.5|\n",
      "|  20110043|   B04|       2003259|          Alarms|01/11/2002|01/10/2002|               Other|01/11/2002 06:01:...|1400 Block of SUT...|  SF|  94109|      B04|         03|3223|               3|       3|            3|  false|         NULL|        1|   CHIEF|                         2|                     4|                 2|    Western Addition|(37.7872890372638...|020110043-B04|3.4833333|\n",
      "+----------+------+--------------+----------------+----------+----------+--------------------+--------------------+--------------------+----+-------+---------+-----------+----+----------------+--------+-------------+-------+-------------+---------+--------+--------------------------+----------------------+------------------+--------------------+--------------------+-------------+---------+\n",
      "only showing top 5 rows\n",
      "\n"
     ]
    }
   ],
   "source": [
    "df.show(5)"
   ]
  },
  {
   "cell_type": "code",
   "execution_count": 121,
   "id": "d52c5ed0",
   "metadata": {},
   "outputs": [],
   "source": [
    "from pyspark.sql.functions import *\n",
    "import  pyspark.sql.functions as fn"
   ]
  },
  {
   "cell_type": "code",
   "execution_count": 122,
   "id": "bc12bfed",
   "metadata": {},
   "outputs": [],
   "source": [
    "df_Medical =df.select('CallNumber','UnitID','CallType')\\\n",
    "              .where(col('CallType')=='Medical Incident')"
   ]
  },
  {
   "cell_type": "code",
   "execution_count": 123,
   "id": "355ea1a8",
   "metadata": {},
   "outputs": [
    {
     "name": "stdout",
     "output_type": "stream",
     "text": [
      "root\n",
      " |-- CallNumber: integer (nullable = true)\n",
      " |-- UnitID: string (nullable = true)\n",
      " |-- CallType: string (nullable = true)\n",
      "\n"
     ]
    }
   ],
   "source": [
    "df_Medical.printSchema()"
   ]
  },
  {
   "cell_type": "code",
   "execution_count": 124,
   "id": "c22a8d07",
   "metadata": {},
   "outputs": [
    {
     "name": "stdout",
     "output_type": "stream",
     "text": [
      "+----------+------+----------------+\n",
      "|CallNumber|UnitID|        CallType|\n",
      "+----------+------+----------------+\n",
      "|  20110022|   M17|Medical Incident|\n",
      "|  20110023|   M41|Medical Incident|\n",
      "|  20110197|   E05|Medical Incident|\n",
      "|  20110215|   E06|Medical Incident|\n",
      "|  20110274|   M07|Medical Incident|\n",
      "|  20110304|   E03|Medical Incident|\n",
      "|  20110308|   E14|Medical Incident|\n",
      "|  20110315|   RC2|Medical Incident|\n",
      "|  20110330|   E14|Medical Incident|\n",
      "|  20110330|   M12|Medical Incident|\n",
      "|  20110350|   M41|Medical Incident|\n",
      "|  20110428|   M28|Medical Incident|\n",
      "|  20110467|   T19|Medical Incident|\n",
      "|  20120016|   E43|Medical Incident|\n",
      "|  20120044|   M10|Medical Incident|\n",
      "|  20120045|   E21|Medical Incident|\n",
      "|  20120052|   M36|Medical Incident|\n",
      "|  20120061|   M10|Medical Incident|\n",
      "|  20120127|   M38|Medical Incident|\n",
      "|  20120142|   E07|Medical Incident|\n",
      "+----------+------+----------------+\n",
      "only showing top 20 rows\n",
      "\n"
     ]
    }
   ],
   "source": [
    "df_Medical.show()"
   ]
  },
  {
   "cell_type": "code",
   "execution_count": 125,
   "id": "76313bae",
   "metadata": {},
   "outputs": [],
   "source": [
    "df_not_Medical =df.select('CallNumber','UnitID','CallType')\\\n",
    "              .where(col('CallType')!='Medical Incident')"
   ]
  },
  {
   "cell_type": "code",
   "execution_count": 126,
   "id": "efe721b9",
   "metadata": {},
   "outputs": [
    {
     "name": "stdout",
     "output_type": "stream",
     "text": [
      "+----------+------+--------------------+\n",
      "|CallNumber|UnitID|            CallType|\n",
      "+----------+------+--------------------+\n",
      "|  20110016|   T13|      Structure Fire|\n",
      "|  20110032|   E11|        Vehicle Fire|\n",
      "|  20110043|   B04|              Alarms|\n",
      "|  20110072|   T08|      Structure Fire|\n",
      "|  20110125|   E33|              Alarms|\n",
      "|  20110130|   E36|              Alarms|\n",
      "|  20110275|   T15|      Structure Fire|\n",
      "|  20110313|   B10|      Structure Fire|\n",
      "|  20110313|    D3|      Structure Fire|\n",
      "|  20110313|   E32|      Structure Fire|\n",
      "|  20110344|   T06|Odor (Strange / U...|\n",
      "|  20110375|   B05|              Alarms|\n",
      "|  20110425|   B01|      Structure Fire|\n",
      "|  20120020|   E36|      Structure Fire|\n",
      "|  20120111|   E18|Odor (Strange / U...|\n",
      "|  20120155|   B08|Odor (Strange / U...|\n",
      "|  20120217|   M03|      Structure Fire|\n",
      "|  20120295|   B05|              Alarms|\n",
      "|  20120311|   E07|Smoke Investigati...|\n",
      "|  20120322|    D2|      Structure Fire|\n",
      "+----------+------+--------------------+\n",
      "only showing top 20 rows\n",
      "\n"
     ]
    }
   ],
   "source": [
    "df_not_Medical.show()"
   ]
  },
  {
   "cell_type": "code",
   "execution_count": 127,
   "id": "6686b89d",
   "metadata": {},
   "outputs": [
    {
     "name": "stderr",
     "output_type": "stream",
     "text": [
      "[Stage 78:===============>                                         (3 + 8) / 11]\r"
     ]
    },
    {
     "name": "stdout",
     "output_type": "stream",
     "text": [
      "+-------+--------------------+------------------+------------------+--------------------+----------+----------+--------------------+--------------------+--------------------+-----------+------------------+---------+------------------+------------------+------------------+------------------+-------------------+--------------------+-------------------+--------+--------------------------+----------------------+------------------+--------------------+--------------------+-------------+------------------+\n",
      "|summary|          CallNumber|            UnitID|    IncidentNumber|            CallType|  CallDate| WatchDate|CallFinalDisposition|       AvailableDtTm|             Address|       City|           Zipcode|Battalion|       StationArea|               Box|  OriginalPriority|          Priority|      FinalPriority|       CallTypeGroup|          NumAlarms|UnitType|UnitSequenceInCallDispatch|FirePreventionDistrict|SupervisorDistrict|        Neighborhood|            Location|        RowID|             Delay|\n",
      "+-------+--------------------+------------------+------------------+--------------------+----------+----------+--------------------+--------------------+--------------------+-----------+------------------+---------+------------------+------------------+------------------+------------------+-------------------+--------------------+-------------------+--------+--------------------------+----------------------+------------------+--------------------+--------------------+-------------+------------------+\n",
      "|  count|              175296|            175296|            175296|              175296|    175296|    175296|              175296|              173502|              175296|     175089|            175154|   175296|            175221|            175283|            174374|            175296|             175296|               75779|             175296|  175296|                    175295|                175296|            175296|              175296|              175296|       175296|            175296|\n",
      "|   mean|1.0023517638629518E8| 75.09678410773658| 9900785.635057274|                NULL|      NULL|      NULL|                NULL|                NULL|                NULL|       NULL| 94113.58601573472|     NULL| 18.08921735922151|   4090.2165596011|2.7605317888321927|2.7449383763374695|  2.792174379335524|                NULL| 1.0049858525009128|    NULL|        2.1280413018055278|    4.7602276974384035| 5.989141976365816|                NULL|                NULL|         NULL|3.8923641541750142|\n",
      "| stddev|  5.39690928341264E7|12.818274120753578|5407019.5249005295|                NULL|      NULL|      NULL|                NULL|                NULL|                NULL|       NULL|10.221869589797066|     NULL|14.463948601522217|2374.8822257149536|0.5070550169980568|0.5170575577556951|0.40575247533832254|                NULL|0.09811952680742102|    NULL|        2.0543838673391743|    2.9348933918215145|2.7217404283152113|                NULL|                NULL|         NULL| 9.378286170882722|\n",
      "|    min|             1030128|                27|             30636|      Administrative|01/01/2001|01/01/2001|Against Medical A...|01/01/2001 01:28:...|0 Block of 0NB GG...|         BN|             94102|      B01|                01|              0123|                 1|                 1|                  2|               Alarm|                  1| AIRPORT|                         1|                     1|                 1|Bayview Hunters P...|(37.6168823239251...|001030128-B04|       0.016666668|\n",
      "|    max|           183104004|               UU1|          18130302|Watercraft in Dis...|12/31/2017|12/31/2017|    Unable to Locate|12/31/2017 12:55:...|YOSEMITE AV/MENDE...|Yerba Buena|             94158|      B99|                A3|              AI02|                 I|                 I|                  3|Potentially Life-...|                  5|   TRUCK|                        68|                  None|              None|    Western Addition|(37.8544643401172...|183104004-B01|           1844.55|\n",
      "+-------+--------------------+------------------+------------------+--------------------+----------+----------+--------------------+--------------------+--------------------+-----------+------------------+---------+------------------+------------------+------------------+------------------+-------------------+--------------------+-------------------+--------+--------------------------+----------------------+------------------+--------------------+--------------------+-------------+------------------+\n",
      "\n"
     ]
    },
    {
     "name": "stderr",
     "output_type": "stream",
     "text": [
      "                                                                                \r"
     ]
    }
   ],
   "source": [
    "df.describe().show()"
   ]
  },
  {
   "cell_type": "code",
   "execution_count": 128,
   "id": "f624c4c6",
   "metadata": {},
   "outputs": [
    {
     "data": {
      "text/plain": [
       "175296"
      ]
     },
     "execution_count": 128,
     "metadata": {},
     "output_type": "execute_result"
    }
   ],
   "source": [
    "df.select('CallType')\\\n",
    ".where(col('CallType').isNotNull()).count()"
   ]
  },
  {
   "cell_type": "code",
   "execution_count": 129,
   "id": "068ac9df",
   "metadata": {},
   "outputs": [
    {
     "data": {
      "text/plain": [
       "30"
      ]
     },
     "execution_count": 129,
     "metadata": {},
     "output_type": "execute_result"
    }
   ],
   "source": [
    "df.select('CallType')\\\n",
    ".where(col('CallType').isNotNull()).distinct().count()"
   ]
  },
  {
   "cell_type": "code",
   "execution_count": 130,
   "id": "26a59e34",
   "metadata": {},
   "outputs": [
    {
     "name": "stdout",
     "output_type": "stream",
     "text": [
      "+--------------------------------------------+\n",
      "|CallType                                    |\n",
      "+--------------------------------------------+\n",
      "|Watercraft in Distress                      |\n",
      "|Water Rescue                                |\n",
      "|Vehicle Fire                                |\n",
      "|Train / Rail Incident                       |\n",
      "|Traffic Collision                           |\n",
      "|Suspicious Package                          |\n",
      "|Structure Fire                              |\n",
      "|Smoke Investigation (Outside)               |\n",
      "|Outside Fire                                |\n",
      "|Other                                       |\n",
      "|Oil Spill                                   |\n",
      "|Odor (Strange / Unknown)                    |\n",
      "|Mutual Aid / Assist Outside Agency          |\n",
      "|Medical Incident                            |\n",
      "|Marine Fire                                 |\n",
      "|Industrial Accidents                        |\n",
      "|High Angle Rescue                           |\n",
      "|HazMat                                      |\n",
      "|Gas Leak (Natural and LP Gases)             |\n",
      "|Fuel Spill                                  |\n",
      "|Extrication / Entrapped (Machinery, Vehicle)|\n",
      "|Explosion                                   |\n",
      "|Elevator / Escalator Rescue                 |\n",
      "|Electrical Hazard                           |\n",
      "|Confined Space / Structure Collapse         |\n",
      "|Citizen Assist / Service Call               |\n",
      "|Assist Police                               |\n",
      "|Alarms                                      |\n",
      "|Aircraft Emergency                          |\n",
      "|Administrative                              |\n",
      "+--------------------------------------------+\n",
      "\n"
     ]
    }
   ],
   "source": [
    "df.select('CallType')\\\n",
    ".where(col('CallType').isNotNull())\\\n",
    ".distinct()\\\n",
    ".sort('CallType',ascending=False)\\\n",
    ".show(30,truncate=False)"
   ]
  },
  {
   "cell_type": "code",
   "execution_count": 131,
   "id": "557b7f7d",
   "metadata": {},
   "outputs": [],
   "source": [
    "new_df=df.withColumnRenamed('Delay','respons')"
   ]
  },
  {
   "cell_type": "code",
   "execution_count": 132,
   "id": "1da5cec8",
   "metadata": {},
   "outputs": [
    {
     "name": "stdout",
     "output_type": "stream",
     "text": [
      "root\n",
      " |-- CallNumber: integer (nullable = true)\n",
      " |-- UnitID: string (nullable = true)\n",
      " |-- IncidentNumber: integer (nullable = true)\n",
      " |-- CallType: string (nullable = true)\n",
      " |-- CallDate: string (nullable = true)\n",
      " |-- WatchDate: string (nullable = true)\n",
      " |-- CallFinalDisposition: string (nullable = true)\n",
      " |-- AvailableDtTm: string (nullable = true)\n",
      " |-- Address: string (nullable = true)\n",
      " |-- City: string (nullable = true)\n",
      " |-- Zipcode: integer (nullable = true)\n",
      " |-- Battalion: string (nullable = true)\n",
      " |-- StationArea: string (nullable = true)\n",
      " |-- Box: string (nullable = true)\n",
      " |-- OriginalPriority: string (nullable = true)\n",
      " |-- Priority: string (nullable = true)\n",
      " |-- FinalPriority: integer (nullable = true)\n",
      " |-- ALSUnit: boolean (nullable = true)\n",
      " |-- CallTypeGroup: string (nullable = true)\n",
      " |-- NumAlarms: integer (nullable = true)\n",
      " |-- UnitType: string (nullable = true)\n",
      " |-- UnitSequenceInCallDispatch: integer (nullable = true)\n",
      " |-- FirePreventionDistrict: string (nullable = true)\n",
      " |-- SupervisorDistrict: string (nullable = true)\n",
      " |-- Neighborhood: string (nullable = true)\n",
      " |-- Location: string (nullable = true)\n",
      " |-- RowID: string (nullable = true)\n",
      " |-- respons: double (nullable = true)\n",
      "\n"
     ]
    }
   ],
   "source": [
    "new_df.printSchema()"
   ]
  },
  {
   "cell_type": "code",
   "execution_count": 133,
   "id": "a4d90c10",
   "metadata": {},
   "outputs": [
    {
     "name": "stdout",
     "output_type": "stream",
     "text": [
      "+---------+\n",
      "|  respons|\n",
      "+---------+\n",
      "|     5.35|\n",
      "|     6.25|\n",
      "|      5.2|\n",
      "|      5.6|\n",
      "|     7.25|\n",
      "|11.916667|\n",
      "| 5.116667|\n",
      "| 8.633333|\n",
      "| 95.28333|\n",
      "|     5.45|\n",
      "|      7.6|\n",
      "| 6.133333|\n",
      "|5.1833334|\n",
      "|6.9166665|\n",
      "|      5.2|\n",
      "|     6.35|\n",
      "| 7.983333|\n",
      "|    13.55|\n",
      "|     5.15|\n",
      "|13.583333|\n",
      "+---------+\n",
      "only showing top 20 rows\n",
      "\n"
     ]
    }
   ],
   "source": [
    "new_df.select('respons')\\\n",
    "      .where('respons>5').show()"
   ]
  },
  {
   "cell_type": "code",
   "execution_count": 134,
   "id": "4a154366",
   "metadata": {},
   "outputs": [
    {
     "name": "stdout",
     "output_type": "stream",
     "text": [
      "root\n",
      " |-- CallNumber: integer (nullable = true)\n",
      " |-- UnitID: string (nullable = true)\n",
      " |-- IncidentNumber: integer (nullable = true)\n",
      " |-- CallType: string (nullable = true)\n",
      " |-- CallDate: string (nullable = true)\n",
      " |-- WatchDate: string (nullable = true)\n",
      " |-- CallFinalDisposition: string (nullable = true)\n",
      " |-- AvailableDtTm: string (nullable = true)\n",
      " |-- Address: string (nullable = true)\n",
      " |-- City: string (nullable = true)\n",
      " |-- Zipcode: integer (nullable = true)\n",
      " |-- Battalion: string (nullable = true)\n",
      " |-- StationArea: string (nullable = true)\n",
      " |-- Box: string (nullable = true)\n",
      " |-- OriginalPriority: string (nullable = true)\n",
      " |-- Priority: string (nullable = true)\n",
      " |-- FinalPriority: integer (nullable = true)\n",
      " |-- ALSUnit: boolean (nullable = true)\n",
      " |-- CallTypeGroup: string (nullable = true)\n",
      " |-- NumAlarms: integer (nullable = true)\n",
      " |-- UnitType: string (nullable = true)\n",
      " |-- UnitSequenceInCallDispatch: integer (nullable = true)\n",
      " |-- FirePreventionDistrict: string (nullable = true)\n",
      " |-- SupervisorDistrict: string (nullable = true)\n",
      " |-- Neighborhood: string (nullable = true)\n",
      " |-- Location: string (nullable = true)\n",
      " |-- RowID: string (nullable = true)\n",
      " |-- respons: double (nullable = true)\n",
      "\n"
     ]
    }
   ],
   "source": [
    "new_df.printSchema()"
   ]
  },
  {
   "cell_type": "code",
   "execution_count": 135,
   "id": "bd5260db",
   "metadata": {},
   "outputs": [],
   "source": [
    "df_s=new_df.withColumn('CallDate', to_timestamp(col('CallDate'), 'MM/dd/yyy'))\n"
   ]
  },
  {
   "cell_type": "code",
   "execution_count": 136,
   "id": "db23f0ef",
   "metadata": {},
   "outputs": [
    {
     "name": "stdout",
     "output_type": "stream",
     "text": [
      "root\n",
      " |-- CallNumber: integer (nullable = true)\n",
      " |-- UnitID: string (nullable = true)\n",
      " |-- IncidentNumber: integer (nullable = true)\n",
      " |-- CallType: string (nullable = true)\n",
      " |-- CallDate: timestamp (nullable = true)\n",
      " |-- WatchDate: string (nullable = true)\n",
      " |-- CallFinalDisposition: string (nullable = true)\n",
      " |-- AvailableDtTm: string (nullable = true)\n",
      " |-- Address: string (nullable = true)\n",
      " |-- City: string (nullable = true)\n",
      " |-- Zipcode: integer (nullable = true)\n",
      " |-- Battalion: string (nullable = true)\n",
      " |-- StationArea: string (nullable = true)\n",
      " |-- Box: string (nullable = true)\n",
      " |-- OriginalPriority: string (nullable = true)\n",
      " |-- Priority: string (nullable = true)\n",
      " |-- FinalPriority: integer (nullable = true)\n",
      " |-- ALSUnit: boolean (nullable = true)\n",
      " |-- CallTypeGroup: string (nullable = true)\n",
      " |-- NumAlarms: integer (nullable = true)\n",
      " |-- UnitType: string (nullable = true)\n",
      " |-- UnitSequenceInCallDispatch: integer (nullable = true)\n",
      " |-- FirePreventionDistrict: string (nullable = true)\n",
      " |-- SupervisorDistrict: string (nullable = true)\n",
      " |-- Neighborhood: string (nullable = true)\n",
      " |-- Location: string (nullable = true)\n",
      " |-- RowID: string (nullable = true)\n",
      " |-- respons: double (nullable = true)\n",
      "\n"
     ]
    }
   ],
   "source": [
    "df_s.printSchema()"
   ]
  },
  {
   "cell_type": "code",
   "execution_count": 137,
   "id": "961288c1",
   "metadata": {},
   "outputs": [
    {
     "name": "stdout",
     "output_type": "stream",
     "text": [
      "+----------+------+--------------+----------------+-------------------+----------+--------------------+--------------------+--------------------+----+-------+---------+-----------+----+----------------+--------+-------------+-------+-------------+---------+--------------+--------------------------+----------------------+------------------+--------------------+--------------------+-------------+---------+\n",
      "|CallNumber|UnitID|IncidentNumber|        CallType|           CallDate| WatchDate|CallFinalDisposition|       AvailableDtTm|             Address|City|Zipcode|Battalion|StationArea| Box|OriginalPriority|Priority|FinalPriority|ALSUnit|CallTypeGroup|NumAlarms|      UnitType|UnitSequenceInCallDispatch|FirePreventionDistrict|SupervisorDistrict|        Neighborhood|            Location|        RowID|  respons|\n",
      "+----------+------+--------------+----------------+-------------------+----------+--------------------+--------------------+--------------------+----+-------+---------+-----------+----+----------------+--------+-------------+-------+-------------+---------+--------------+--------------------------+----------------------+------------------+--------------------+--------------------+-------------+---------+\n",
      "|  20110016|   T13|       2003235|  Structure Fire|2002-01-11 00:00:00|01/10/2002|               Other|01/11/2002 01:51:...|2000 Block of CAL...|  SF|  94109|      B04|         38|3362|               3|       3|            3|  false|         NULL|        1|         TRUCK|                         2|                     4|                 5|     Pacific Heights|(37.7895840679362...|020110016-T13|     2.95|\n",
      "|  20110022|   M17|       2003241|Medical Incident|2002-01-11 00:00:00|01/10/2002|               Other|01/11/2002 03:01:...|0 Block of SILVER...|  SF|  94124|      B10|         42|6495|               3|       3|            3|   true|         NULL|        1|         MEDIC|                         1|                    10|                10|Bayview Hunters P...|(37.7337623673897...|020110022-M17|      4.7|\n",
      "|  20110023|   M41|       2003242|Medical Incident|2002-01-11 00:00:00|01/10/2002|               Other|01/11/2002 02:39:...|MARKET ST/MCALLIS...|  SF|  94102|      B03|         01|1455|               3|       3|            3|   true|         NULL|        1|         MEDIC|                         2|                     3|                 6|          Tenderloin|(37.7811772186856...|020110023-M41|2.4333334|\n",
      "|  20110032|   E11|       2003250|    Vehicle Fire|2002-01-11 00:00:00|01/10/2002|               Other|01/11/2002 04:16:...|APPLETON AV/MISSI...|  SF|  94110|      B06|         32|5626|               3|       3|            3|  false|         NULL|        1|        ENGINE|                         1|                     6|                 9|      Bernal Heights|(37.7388432849018...|020110032-E11|      1.5|\n",
      "|  20110043|   B04|       2003259|          Alarms|2002-01-11 00:00:00|01/10/2002|               Other|01/11/2002 06:01:...|1400 Block of SUT...|  SF|  94109|      B04|         03|3223|               3|       3|            3|  false|         NULL|        1|         CHIEF|                         2|                     4|                 2|    Western Addition|(37.7872890372638...|020110043-B04|3.4833333|\n",
      "|  20110072|   T08|       2003279|  Structure Fire|2002-01-11 00:00:00|01/11/2002|               Other|01/11/2002 08:03:...|  BEALE ST/FOLSOM ST|  SF|  94105|      B03|         35|2122|               3|       3|            3|  false|         NULL|        1|         TRUCK|                         2|                     3|                 6|Financial Distric...|(37.7886866619654...|020110072-T08|     1.75|\n",
      "|  20110125|   E33|       2003301|          Alarms|2002-01-11 00:00:00|01/11/2002|               Other|01/11/2002 09:46:...|0 Block of FARALL...|  SF|  94112|      B09|         33|8324|               3|       3|            3|  false|         NULL|        1|        ENGINE|                         2|                     9|                11|Oceanview/Merced/...|(37.7140353531157...|020110125-E33|2.7166667|\n",
      "|  20110130|   E36|       2003304|          Alarms|2002-01-11 00:00:00|01/11/2002|               Other|01/11/2002 09:58:...|600 Block of POLK ST|  SF|  94102|      B02|         03|3114|               3|       3|            3|  false|         NULL|        1|        ENGINE|                         1|                     2|                 6|          Tenderloin|(37.7826266328595...|020110130-E36|1.7833333|\n",
      "|  20110197|   E05|       2003343|Medical Incident|2002-01-11 00:00:00|01/11/2002|               Other|01/11/2002 12:06:...|1500 Block of WEB...|  SF|  94115|      B04|         05|3513|               3|       3|            3|  false|         NULL|        1|        ENGINE|                         1|                     4|                 5|           Japantown|(37.784958590666,...|020110197-E05|1.5166667|\n",
      "|  20110215|   E06|       2003348|Medical Incident|2002-01-11 00:00:00|01/11/2002|               Other|01/11/2002 01:08:...|DIAMOND ST/MARKET ST|  SF|  94114|      B05|         06|5415|               3|       3|            3|  false|         NULL|        1|        ENGINE|                         1|                     5|                 8| Castro/Upper Market|(37.7618954753708...|020110215-E06|2.7666667|\n",
      "|  20110274|   M07|       2003381|Medical Incident|2002-01-11 00:00:00|01/11/2002|               Other|01/11/2002 03:31:...|2700 Block of MIS...|  SF|  94110|      B06|         11|5525|               1|       1|            2|   true|         NULL|        1|         MEDIC|                         1|                     6|                 9|             Mission|(37.7530339738059...|020110274-M07|2.1833334|\n",
      "|  20110275|   T15|       2003382|  Structure Fire|2002-01-11 00:00:00|01/11/2002|               Other|01/11/2002 02:59:...|BRUNSWICK ST/GUTT...|  SF|  94112|      B09|         43|6218|               3|       3|            3|  false|         NULL|        1|         TRUCK|                         1|                     9|                11|           Excelsior|(37.7105545807996...|020110275-T15|      2.5|\n",
      "|  20110304|   E03|       2003399|Medical Incident|2002-01-11 00:00:00|01/11/2002|               Other|01/11/2002 04:22:...|1000 Block of SUT...|  SF|  94109|      B04|         03|1557|               3|       3|            3|  false|         NULL|        1|        ENGINE|                         1|                     4|                 3|            Nob Hill|(37.7881263034393...|020110304-E03|2.4166667|\n",
      "|  20110308|   E14|       2003403|Medical Incident|2002-01-11 00:00:00|01/11/2002|               Other|01/11/2002 04:18:...|100 Block of 21ST...|  SF|  94121|      B07|         14|7173|               3|       3|            3|  false|         NULL|        1|        ENGINE|                         1|                     7|                 1|      Outer Richmond|(37.7850084431077...|020110308-E14|     4.95|\n",
      "|  20110313|   B10|       2003408|  Structure Fire|2002-01-11 00:00:00|01/11/2002|               Other|01/11/2002 04:09:...|700 Block of CAPP ST|  SF|  94110|      B06|         07|5472|               3|       3|            3|  false|         NULL|        1|         CHIEF|                         6|                     6|                 9|             Mission|(37.7547064357942...|020110313-B10|1.4166666|\n",
      "|  20110313|    D3|       2003408|  Structure Fire|2002-01-11 00:00:00|01/11/2002|               Other|01/11/2002 04:09:...|700 Block of CAPP ST|  SF|  94110|      B06|         07|5472|               3|       3|            3|  false|         NULL|        1|         CHIEF|                         4|                     6|                 9|             Mission|(37.7547064357942...| 020110313-D3|2.5333333|\n",
      "|  20110313|   E32|       2003408|  Structure Fire|2002-01-11 00:00:00|01/11/2002|               Other|01/11/2002 04:09:...|700 Block of CAPP ST|  SF|  94110|      B06|         07|5472|               3|       3|            3|   true|         NULL|        1|        ENGINE|                         8|                     6|                 9|             Mission|(37.7547064357942...|020110313-E32|1.8833333|\n",
      "|  20110315|   RC2|       2003409|Medical Incident|2002-01-11 00:00:00|01/11/2002|               Other|01/11/2002 04:34:...|200 Block of LAGU...|  SF|  94116|      B08|         20|8635|               3|       3|            3|   true|         NULL|        1|RESCUE CAPTAIN|                         2|                     8|                 7|  West of Twin Peaks|(37.7501117393668...|020110315-RC2|     5.35|\n",
      "|  20110330|   E14|       2003417|Medical Incident|2002-01-11 00:00:00|01/11/2002|               Other|01/11/2002 04:51:...|BALBOA ST/PARK PR...|  SF|  94118|      B07|         31|7145|               3|       3|            3|  false|         NULL|        1|        ENGINE|                         1|                     7|                 1|      Inner Richmond|(37.7768682293368...|020110330-E14|      2.0|\n",
      "|  20110330|   M12|       2003417|Medical Incident|2002-01-11 00:00:00|01/11/2002|               Other|01/11/2002 04:51:...|BALBOA ST/PARK PR...|  SF|  94118|      B07|         31|7145|               3|       3|            3|   true|         NULL|        1|         MEDIC|                         2|                     7|                 1|      Inner Richmond|(37.7768682293368...|020110330-M12|1.8166667|\n",
      "+----------+------+--------------+----------------+-------------------+----------+--------------------+--------------------+--------------------+----+-------+---------+-----------+----+----------------+--------+-------------+-------+-------------+---------+--------------+--------------------------+----------------------+------------------+--------------------+--------------------+-------------+---------+\n",
      "only showing top 20 rows\n",
      "\n"
     ]
    }
   ],
   "source": [
    "df_s.show()"
   ]
  },
  {
   "cell_type": "code",
   "execution_count": 138,
   "id": "81641af7",
   "metadata": {},
   "outputs": [
    {
     "name": "stdout",
     "output_type": "stream",
     "text": [
      "+--------------+\n",
      "|year(CallDate)|\n",
      "+--------------+\n",
      "|          2003|\n",
      "|          2005|\n",
      "|          2002|\n",
      "|          2006|\n",
      "|          2009|\n",
      "|          2008|\n",
      "|          2012|\n",
      "|          2010|\n",
      "|          2011|\n",
      "|          2013|\n",
      "|          2014|\n",
      "|          2015|\n",
      "|          2016|\n",
      "|          2018|\n",
      "|          2017|\n",
      "|          2007|\n",
      "|          2004|\n",
      "|          2000|\n",
      "|          2001|\n",
      "+--------------+\n",
      "\n"
     ]
    }
   ],
   "source": [
    "df_year=df_s.select(fn.year('CallDate')).distinct().show()"
   ]
  }
 ],
 "metadata": {
  "kernelspec": {
   "display_name": "Python 3",
   "language": "python",
   "name": "python3"
  },
  "language_info": {
   "codemirror_mode": {
    "name": "ipython",
    "version": 3
   },
   "file_extension": ".py",
   "mimetype": "text/x-python",
   "name": "python",
   "nbconvert_exporter": "python",
   "pygments_lexer": "ipython3",
   "version": "3.10.12"
  }
 },
 "nbformat": 4,
 "nbformat_minor": 5
}
