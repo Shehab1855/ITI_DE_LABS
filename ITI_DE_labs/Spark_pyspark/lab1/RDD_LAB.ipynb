{
 "cells": [
  {
   "cell_type": "markdown",
   "id": "388fe9f7-bf57-4f0e-adb6-8a93a343d34a",
   "metadata": {},
   "source": [
    "### Import the required libraries then Create SparkContext"
   ]
  },
  {
   "cell_type": "code",
   "execution_count": 1,
   "id": "f25c4ba6",
   "metadata": {},
   "outputs": [],
   "source": [
    "import numpy as np\n",
    "import findspark\n",
    "\n",
    "findspark.init()\n"
   ]
  },
  {
   "cell_type": "code",
   "execution_count": 2,
   "id": "92395808-6c30-4750-b3ed-c30ce08b82bd",
   "metadata": {},
   "outputs": [],
   "source": [
    "from pyspark import SparkConf, SparkContext\n",
    "\n",
    "# Create a Spark configuration object\n",
    "conf = SparkConf().setAppName(\"MyApp\").setMaster(\"local[*]\")\n",
    "\n",
    "# Get or create SparkContext to avoid multiple instances error\n",
    "sc = SparkContext.getOrCreate(conf)"
   ]
  },
  {
   "cell_type": "markdown",
   "id": "88d80de2-ea40-4dbe-a36b-d8b35d68f7ed",
   "metadata": {},
   "source": [
    "### Create and display an RDD from the following list"
   ]
  },
  {
   "cell_type": "code",
   "execution_count": 3,
   "id": "a4c17699-c558-42a2-a056-a5d6dde0f595",
   "metadata": {},
   "outputs": [],
   "source": [
    "list = [('JK', 22), ('V', 24), ('Jimin',24), ('RM', 25), ('J-Hope', 25), ('Suga', 26), ('Jin', 27)]"
   ]
  },
  {
   "cell_type": "code",
   "execution_count": 4,
   "id": "f008b94e-f365-41e0-b0d6-1a74f6d3c81f",
   "metadata": {},
   "outputs": [
    {
     "name": "stdout",
     "output_type": "stream",
     "text": [
      "[('JK', 22), ('V', 24), ('Jimin', 24), ('RM', 25), ('J-Hope', 25), ('Suga', 26), ('Jin', 27)]\n"
     ]
    }
   ],
   "source": [
    "rdd = sc.parallelize(list)\n",
    "\n",
    "# Display the contents of the RDD\n",
    "print(rdd.collect())"
   ]
  },
  {
   "cell_type": "markdown",
   "id": "2d36861d-b141-4c18-ac04-e725be7108e7",
   "metadata": {},
   "source": [
    "### Create a sample1.txt file to contain the text shown below."
   ]
  },
  {
   "cell_type": "code",
   "execution_count": 5,
   "id": "12a45a95-497a-407d-be52-e0f462531195",
   "metadata": {},
   "outputs": [],
   "source": [
    "text='''\n",
    "Utilitatis causa amicitia est quaesita.\n",
    "Lorem ipsum dolor sit amet, consectetur adipiscing elit. \n",
    "Collatio igitur ista tenihil iuvat. \n",
    "Honesta oratio, Socratica, Platonis etiam. \n",
    "Primum in nostranepotestate est, quid meminerimus? \n",
    "Duo Reges: constructio interrete.\n",
    "Quid, sietiam iucunda memoria est praeteritorum malorum? \n",
    "Si quidem, inquit, tollerem,'''"
   ]
  },
  {
   "cell_type": "code",
   "execution_count": 7,
   "id": "1fd7f521",
   "metadata": {},
   "outputs": [
    {
     "name": "stderr",
     "output_type": "stream",
     "text": [
      "UsageError: %%writefile is a cell magic, but the cell body is empty.\n"
     ]
    }
   ],
   "source": [
    "%%writefile sample1.txt"
   ]
  },
  {
   "cell_type": "code",
   "execution_count": 8,
   "id": "442f2232-d589-4bc5-8967-79f637b2ab63",
   "metadata": {},
   "outputs": [
    {
     "name": "stdout",
     "output_type": "stream",
     "text": [
      "File 'sample1.txt' created successfully!\n"
     ]
    }
   ],
   "source": [
    "with open(\"sample1.txt\", \"w\", encoding=\"utf-8\") as file:\n",
    "    file.write(text)\n",
    "\n",
    "print(\"File 'sample1.txt' created successfully!\")"
   ]
  },
  {
   "cell_type": "markdown",
   "id": "bdbe2cee-ce51-49ef-a8a4-845bbb2ba1e9",
   "metadata": {},
   "source": [
    "### Read sample1.txt file into RDD and displaying the first 4 elements"
   ]
  },
  {
   "cell_type": "code",
   "execution_count": 9,
   "id": "b2e87010-d38b-4eeb-b9e1-84d0264f4885",
   "metadata": {},
   "outputs": [
    {
     "name": "stdout",
     "output_type": "stream",
     "text": [
      "\n",
      "Utilitatis causa amicitia est quaesita.\n",
      "Lorem ipsum dolor sit amet, consectetur adipiscing elit. \n",
      "Collatio igitur ista tenihil iuvat. \n"
     ]
    }
   ],
   "source": [
    "# Read the text file into an RDD\n",
    "rdd = sc.textFile(\"sample1.txt\")\n",
    "\n",
    "# Display the first 4 lines\n",
    "print(\"\\n\".join(rdd.take(4)))\n",
    "\n"
   ]
  },
  {
   "cell_type": "markdown",
   "id": "3cfa7c8d-51b4-4345-9187-5f588c5149a0",
   "metadata": {},
   "source": [
    "### Count the total number of rows in RDD"
   ]
  },
  {
   "cell_type": "code",
   "execution_count": 10,
   "id": "28f34b4f-66ed-404e-935d-574bc272378f",
   "metadata": {},
   "outputs": [
    {
     "name": "stdout",
     "output_type": "stream",
     "text": [
      "Total number of rows: 9\n"
     ]
    }
   ],
   "source": [
    "row_count = rdd.count()\n",
    "\n",
    "# Display the count\n",
    "print(\"Total number of rows:\", row_count)"
   ]
  },
  {
   "cell_type": "markdown",
   "id": "0c7398e1-f762-477b-8a86-395724395939",
   "metadata": {},
   "source": [
    "### Create a function to convert the data into lower case and splitting it"
   ]
  },
  {
   "cell_type": "code",
   "execution_count": 11,
   "id": "c1bec5f5-f761-4056-a114-bf4d167c38b6",
   "metadata": {},
   "outputs": [
    {
     "name": "stdout",
     "output_type": "stream",
     "text": [
      "['utilitatis', 'causa', 'amicitia', 'est', 'quaesita.', 'lorem', 'ipsum', 'dolor', 'sit', 'amet,', 'consectetur', 'adipiscing', 'elit.', 'collatio', 'igitur', 'ista', 'tenihil', 'iuvat.', 'honesta', 'oratio,', 'socratica,', 'platonis', 'etiam.', 'primum', 'in', 'nostranepotestate', 'est,', 'quid', 'meminerimus?', 'duo', 'reges:', 'constructio', 'interrete.', 'quid,', 'sietiam', 'iucunda', 'memoria', 'est', 'praeteritorum', 'malorum?', 'si', 'quidem,', 'inquit,', 'tollerem,']\n"
     ]
    }
   ],
   "source": [
    "# Define the function to convert text to lowercase and split it\n",
    "def lower_and_split(line):\n",
    "    return line.lower().split()\n",
    "\n",
    "# Apply the function to the RDD\n",
    "processed_rdd = rdd.flatMap(lower_and_split)\n",
    "\n",
    "# Display the transformed RDD\n",
    "print(processed_rdd.collect())\n"
   ]
  },
  {
   "cell_type": "markdown",
   "id": "8e472939-775c-4294-9756-747a307e0534",
   "metadata": {},
   "source": [
    "### Remove the stopwords from the previous text. i.e. Remove it."
   ]
  },
  {
   "cell_type": "code",
   "execution_count": 12,
   "id": "743fa5c4-0a8e-489a-9515-fded7ee9507c",
   "metadata": {},
   "outputs": [
    {
     "name": "stderr",
     "output_type": "stream",
     "text": [
      "----------------------------------------\n",
      "Exception occurred during processing of request from ('127.0.0.1', 54914)\n",
      "Traceback (most recent call last):\n",
      "  File \"c:\\Users\\Shehab\\anaconda3\\Lib\\socketserver.py\", line 317, in _handle_request_noblock\n",
      "    self.process_request(request, client_address)\n",
      "  File \"c:\\Users\\Shehab\\anaconda3\\Lib\\socketserver.py\", line 348, in process_request\n",
      "    self.finish_request(request, client_address)\n",
      "  File \"c:\\Users\\Shehab\\anaconda3\\Lib\\socketserver.py\", line 361, in finish_request\n",
      "    self.RequestHandlerClass(request, client_address, self)\n",
      "  File \"c:\\Users\\Shehab\\anaconda3\\Lib\\socketserver.py\", line 755, in __init__\n",
      "    self.handle()\n",
      "  File \"C:\\Big Data\\spark\\python\\pyspark\\accumulators.py\", line 295, in handle\n",
      "    poll(accum_updates)\n",
      "  File \"C:\\Big Data\\spark\\python\\pyspark\\accumulators.py\", line 267, in poll\n",
      "    if self.rfile in r and func():\n",
      "                           ^^^^^^\n",
      "  File \"C:\\Big Data\\spark\\python\\pyspark\\accumulators.py\", line 271, in accum_updates\n",
      "    num_updates = read_int(self.rfile)\n",
      "                  ^^^^^^^^^^^^^^^^^^^^\n",
      "  File \"C:\\Big Data\\spark\\python\\pyspark\\serializers.py\", line 594, in read_int\n",
      "    length = stream.read(4)\n",
      "             ^^^^^^^^^^^^^^\n",
      "  File \"c:\\Users\\Shehab\\anaconda3\\Lib\\socket.py\", line 706, in readinto\n",
      "    return self._sock.recv_into(b)\n",
      "           ^^^^^^^^^^^^^^^^^^^^^^^\n",
      "ConnectionResetError: [WinError 10054] An existing connection was forcibly closed by the remote host\n",
      "----------------------------------------\n"
     ]
    }
   ],
   "source": [
    "stopwords = ['a','all','the','as','is','am','an','and',\n",
    "             'be','been','from','had','I','I’d','why','with']\n",
    "# Hint: you may need use flatMap\n"
   ]
  },
  {
   "cell_type": "code",
   "execution_count": null,
   "id": "4db79bd9-ca09-4609-993f-5699444254d6",
   "metadata": {},
   "outputs": [],
   "source": [
    "def process_text(line):\n",
    "    return [word for word in line.lower().split() if word not in stopwords]\n",
    "\n",
    "# Apply the function using flatMap to process each line and flatten the result\n",
    "filtered_rdd = rdd.flatMap(process_text)\n"
   ]
  },
  {
   "cell_type": "markdown",
   "id": "610d3a1f-0087-4f8d-99ed-47aab87ad1dc",
   "metadata": {},
   "source": [
    "### Find the words starting with ‘c’"
   ]
  },
  {
   "cell_type": "code",
   "execution_count": null,
   "id": "9374c909-61e1-4047-a990-81f96bda5e26",
   "metadata": {},
   "outputs": [],
   "source": [
    "# Function to check if a word starts with 'c'\n",
    "def starts_with_c(word):\n",
    "    return word.startswith('c')\n",
    "\n",
    "# Filter words that start with 'c'\n",
    "words_with_c = filtered_rdd.filter(starts_with_c)\n",
    "\n",
    "# Display the results\n",
    "print(words_with_c.collect())"
   ]
  },
  {
   "cell_type": "markdown",
   "id": "5b4185dc-a547-47bf-adf7-67c93e760ce8",
   "metadata": {},
   "source": [
    "### Reduce the data by key and sum it (use the data from the following list)"
   ]
  },
  {
   "cell_type": "code",
   "execution_count": null,
   "id": "aea1c522-c26a-4055-be5c-3ecd5aa94f8e",
   "metadata": {},
   "outputs": [],
   "source": [
    "list = [('JK', 22), ('V', 24), ('Jimin',24), ('RM', 25)\n",
    "        , ('J-Hope', 25), ('Suga', 26), ('Jin', 27)\n",
    "       , ('J-Hope', 12), ('Suga', 25), ('Jin', 34)\n",
    "       , ('JK', 32), ('V', 44), ('Jimin',14), ('RM', 35)]\n",
    "# Hint: use reduceByKey"
   ]
  },
  {
   "cell_type": "code",
   "execution_count": null,
   "id": "ec8e1b83-c24d-4907-ad6c-cea80ea332dd",
   "metadata": {},
   "outputs": [],
   "source": [
    "# Create an RDD from the list\n",
    "rdd = sc.parallelize([\n",
    "    ('JK', 22), ('V', 24), ('Jimin', 24), ('RM', 25),\n",
    "    ('J-Hope', 25), ('Suga', 26), ('Jin', 27),\n",
    "    ('J-Hope', 12), ('Suga', 25), ('Jin', 34),\n",
    "    ('JK', 32), ('V', 44), ('Jimin', 14), ('RM', 35)\n",
    "])\n",
    "\n",
    "# Use reduceByKey to sum values for each key\n",
    "summed_rdd = rdd.reduceByKey(lambda x, y: x + y)\n",
    "\n",
    "# Display the results\n",
    "print(summed_rdd.collect())\n"
   ]
  },
  {
   "cell_type": "markdown",
   "id": "32e5cb05-4a3a-44f4-8e49-82467065997b",
   "metadata": {},
   "source": [
    "### Creat some key value pairs RDDs"
   ]
  },
  {
   "cell_type": "code",
   "execution_count": null,
   "id": "dbf08ff6-f326-4aa5-bdac-baaef16cf777",
   "metadata": {},
   "outputs": [],
   "source": [
    "# Creating an RDD with key-value pairs (name, age)\n",
    "rdd1 = sc.parallelize([\n",
    "    ('Alice', 25), ('Bob', 30), ('Charlie', 35),\n",
    "    ('Alice', 28), ('Bob', 33), ('Charlie', 40)\n",
    "])\n",
    "\n",
    "# Creating another RDD with key-value pairs (name, city)\n",
    "rdd2 = sc.parallelize([\n",
    "    ('Alice', 'New York'), ('Bob', 'Los Angeles'),\n",
    "    ('Charlie', 'Chicago'), ('David', 'Houston')\n",
    "])\n",
    "\n",
    "# Display the created RDDs\n",
    "print(\"RDD1:\", rdd1.collect())\n",
    "print(\"RDD2:\", rdd2.collect())\n"
   ]
  },
  {
   "cell_type": "markdown",
   "id": "e9539667-386a-453d-8b62-189a7ff90800",
   "metadata": {},
   "source": [
    "### Perform Join operation on the RDDs (rdd1,rdd2)"
   ]
  },
  {
   "cell_type": "code",
   "execution_count": null,
   "id": "29407ee3-9e4c-4ed2-8eeb-72e9dbb84a8d",
   "metadata": {},
   "outputs": [],
   "source": [
    "# Perform an inner join on the RDDs based on the key\n",
    "joined_rdd = rdd1.join(rdd2)\n",
    "\n",
    "# Display the joined RDD\n",
    "print(joined_rdd.collect())\n"
   ]
  }
 ],
 "metadata": {
  "kernelspec": {
   "display_name": "base",
   "language": "python",
   "name": "python3"
  },
  "language_info": {
   "codemirror_mode": {
    "name": "ipython",
    "version": 3
   },
   "file_extension": ".py",
   "mimetype": "text/x-python",
   "name": "python",
   "nbconvert_exporter": "python",
   "pygments_lexer": "ipython3",
   "version": "3.11.7"
  }
 },
 "nbformat": 4,
 "nbformat_minor": 5
}
